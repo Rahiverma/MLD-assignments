{
 "cells": [
  {
   "cell_type": "markdown",
   "metadata": {},
   "source": [
    "1.1 Write a Python Program(with class concepts) to find the area of the triangle using the below\n",
    "formula.\n",
    "area = (s*(s-a)*(s-b)*(s-c)) ** 0.5\n",
    "Function to take the length of the sides of triangle from user should be defined in the parent\n",
    "class and function to calculate the area should be defined in subclass.\n",
    "\n"
   ]
  },
  {
   "cell_type": "code",
   "execution_count": null,
   "metadata": {},
   "outputs": [],
   "source": []
  },
  {
   "cell_type": "code",
   "execution_count": 12,
   "metadata": {},
   "outputs": [
    {
     "name": "stdout",
     "output_type": "stream",
     "text": [
      "Please provide length of first side of a triangle = 3\n",
      "Please provide length of second side of a triangle = 4\n",
      "Please provide length of third side of a triangle = 4\n",
      "Area of Triangle is = 5.562148865321747\n"
     ]
    }
   ],
   "source": [
    "class ParentClass:                         #Creating Parent Class\n",
    "    def getLengthOfSideOfTriangle(self):  #defining the function for taking the sides of Triangle\n",
    "        values = [\"first\", \"second\", \"third\"]   #defining values for all the three sides\n",
    "        sides = []\n",
    "        for index in values :   #defining for loop to take input for all the three sides\n",
    "            inputValue = input(\"Please provide length of {} side of a triangle = \".format(index))\n",
    "            sides.append((inputValue))\n",
    "        return sides      #returning the statement for asking values for three sides of triangle\n",
    "\n",
    "class ChildClass(ParentClass):   #Creating Sub-class along with the Parent Class\n",
    "    def getAreaOfTriangle(self, lengthOfSideOfTriangle): #Defining function for getting the area of Triangle\n",
    "        a = int(lengthOfSideOfTriangle[0])   # first side\n",
    "        b = int(lengthOfSideOfTriangle[1])  # second side\n",
    "        c = int(lengthOfSideOfTriangle[2])   #thrid side\n",
    "        \n",
    "        s = (a + b + c)/2     # calculating the semi-perimeter of Triangle\n",
    "        \n",
    "        area = (s*(s-a)*(s-b)*(s-c)) ** 0.5  #Calculating the Area of Triangle\n",
    "        print(\"Area of Triangle is = {}\" .format(area))  \n",
    "        \n",
    "childClass = ChildClass()  #creating variable for childclass\n",
    "lengthOfSideOfTriangle = childClass.getLengthOfSideOfTriangle() #creating variable for length of Triangle\n",
    "childClass.getAreaOfTriangle(lengthOfSideOfTriangle) #lenght of sides from Parent class getting called in subclass for calculating the area\n"
   ]
  },
  {
   "cell_type": "code",
   "execution_count": 5,
   "metadata": {},
   "outputs": [],
   "source": []
  },
  {
   "cell_type": "code",
   "execution_count": null,
   "metadata": {},
   "outputs": [],
   "source": []
  },
  {
   "cell_type": "code",
   "execution_count": null,
   "metadata": {},
   "outputs": [],
   "source": []
  },
  {
   "cell_type": "markdown",
   "metadata": {},
   "source": [
    "1.2 Write a function filter_long_words() that takes a list of words and an integer n and returns\n",
    "the list of words that are longer than n."
   ]
  },
  {
   "cell_type": "code",
   "execution_count": 6,
   "metadata": {},
   "outputs": [],
   "source": [
    "def filter_long_words(value,string): #defining the function\n",
    "    lastlist = []                   #creating empty list to to append the output in it\n",
    "    text = string.split()             # converting the string into the list\n",
    "    for i in text:              #Applying for loop\n",
    "        if len(i) > value:               #comparing the length of each word with the value\n",
    "            lastlist.append(i)          #adding the findings in empty list\n",
    "    return lastlist                 #returning the empty list"
   ]
  },
  {
   "cell_type": "code",
   "execution_count": 7,
   "metadata": {},
   "outputs": [
    {
     "data": {
      "text/plain": [
       "['Wikipedia',\n",
       " 'online',\n",
       " 'encyclopedia,',\n",
       " 'created',\n",
       " 'edited',\n",
       " 'volunteers',\n",
       " 'around']"
      ]
     },
     "execution_count": 7,
     "metadata": {},
     "output_type": "execute_result"
    }
   ],
   "source": [
    "filter_long_words(5,\"Wikipedia is a free online encyclopedia, created and edited by volunteers around the world\")\n"
   ]
  },
  {
   "cell_type": "code",
   "execution_count": null,
   "metadata": {},
   "outputs": [],
   "source": []
  },
  {
   "cell_type": "markdown",
   "metadata": {},
   "source": [
    "2.1 Write a Python program using function concept that maps list of words into a list of integers\n",
    "representing the lengths of the corresponding words.\n",
    "Hint: If a list [ ab,cde,erty] is passed on to the python function output should come as [2,3,4]\n",
    "Here 2,3 and 4 are the lengths of the words in the list."
   ]
  },
  {
   "cell_type": "code",
   "execution_count": 32,
   "metadata": {},
   "outputs": [],
   "source": [
    "def lenofword(string):     # defining the function\n",
    "    mylist = []                 #creating empty list\n",
    "    text = string.split()          #coverting string into list\n",
    "    for i in text:                # for every value in string\n",
    "        mylist.append(len(i))     #lenght of each word should get append in mylist\n",
    "    return mylist                 #returning mylist with the length of each word in string\n",
    "\n",
    "\n",
    "\n",
    "###############################################\n",
    "##Taking list as a input## - 2nd Method\n",
    "\n",
    "def lenofword_2(l):    # the input should be a list with string values, no int allowed\n",
    "    mylist = []       #creating empty list\n",
    "    for i in l:            \n",
    "        mylist.append(len(i))\n",
    "    return mylist\n",
    "    \n",
    "#############################################"
   ]
  },
  {
   "cell_type": "code",
   "execution_count": 33,
   "metadata": {},
   "outputs": [
    {
     "data": {
      "text/plain": [
       "[11, 8, 6, 6, 13, 8, 6]"
      ]
     },
     "execution_count": 33,
     "metadata": {},
     "output_type": "execute_result"
    }
   ],
   "source": [
    "lenofword(\";oeinroiqwr oiwiejiw eoiwie oiweid oqiehihwecpoi ewcpowie wqpohe\")"
   ]
  },
  {
   "cell_type": "code",
   "execution_count": 35,
   "metadata": {},
   "outputs": [
    {
     "data": {
      "text/plain": [
       "[7, 9, 3, 2, 23]"
      ]
     },
     "execution_count": 35,
     "metadata": {},
     "output_type": "execute_result"
    }
   ],
   "source": [
    "b = [\"hfwqrfw\",\"wefbiuwbe\",\"lwe\",\"iu\",\"lwueowudeouwedquwegywqd\"]\n",
    "lenofword_2(b)"
   ]
  },
  {
   "cell_type": "code",
   "execution_count": null,
   "metadata": {},
   "outputs": [],
   "source": []
  },
  {
   "cell_type": "code",
   "execution_count": null,
   "metadata": {},
   "outputs": [],
   "source": []
  },
  {
   "cell_type": "markdown",
   "metadata": {},
   "source": [
    "2.2 Write a Python function which takes a character (i.e. a string of length 1) and returns True if\n",
    "it is a vowel, False otherwise."
   ]
  },
  {
   "cell_type": "code",
   "execution_count": 11,
   "metadata": {},
   "outputs": [],
   "source": [
    "def is_vowel(char):\n",
    "    vowels = ('a', 'e', 'i', 'o', 'u')\n",
    "    if char not in vowels:\n",
    "        return False\n",
    "    return True"
   ]
  },
  {
   "cell_type": "code",
   "execution_count": null,
   "metadata": {},
   "outputs": [],
   "source": []
  },
  {
   "cell_type": "code",
   "execution_count": 92,
   "metadata": {},
   "outputs": [],
   "source": [
    "\n",
    "    "
   ]
  },
  {
   "cell_type": "code",
   "execution_count": null,
   "metadata": {},
   "outputs": [],
   "source": []
  },
  {
   "cell_type": "code",
   "execution_count": 82,
   "metadata": {},
   "outputs": [],
   "source": []
  },
  {
   "cell_type": "code",
   "execution_count": null,
   "metadata": {},
   "outputs": [],
   "source": []
  },
  {
   "cell_type": "code",
   "execution_count": null,
   "metadata": {},
   "outputs": [],
   "source": [
    "\n",
    "    "
   ]
  },
  {
   "cell_type": "code",
   "execution_count": null,
   "metadata": {},
   "outputs": [],
   "source": [
    "\n"
   ]
  },
  {
   "cell_type": "code",
   "execution_count": null,
   "metadata": {},
   "outputs": [],
   "source": []
  }
 ],
 "metadata": {
  "kernelspec": {
   "display_name": "Python 3",
   "language": "python",
   "name": "python3"
  },
  "language_info": {
   "codemirror_mode": {
    "name": "ipython",
    "version": 3
   },
   "file_extension": ".py",
   "mimetype": "text/x-python",
   "name": "python",
   "nbconvert_exporter": "python",
   "pygments_lexer": "ipython3",
   "version": "3.7.3"
  }
 },
 "nbformat": 4,
 "nbformat_minor": 2
}
